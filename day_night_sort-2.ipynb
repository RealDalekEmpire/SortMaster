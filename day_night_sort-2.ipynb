{
 "cells": [
  {
   "cell_type": "code",
   "execution_count": 25,
   "id": "6bbf0d63",
   "metadata": {},
   "outputs": [],
   "source": [
    "import cv2\n",
    "import os \n",
    "import glob "
   ]
  },
  {
   "cell_type": "code",
   "execution_count": 26,
   "id": "3190b241",
   "metadata": {},
   "outputs": [],
   "source": [
    "from __future__ import print_function\n",
    "import numpy as np\n",
    "import argparse\n",
    "import cv2\n",
    "def adjust_gamma(image, gamma=1.0):\n",
    "\tinvGamma = 1.0 / gamma\n",
    "\ttable = np.array([((i / 255.0) ** invGamma) * 255\n",
    "\t\tfor i in np.arange(0, 256)]).astype(\"uint8\")\n",
    "\treturn cv2.LUT(image, table)"
   ]
  },
  {
   "cell_type": "code",
   "execution_count": 27,
   "id": "2c6ac492",
   "metadata": {},
   "outputs": [
    {
     "name": "stdout",
     "output_type": "stream",
     "text": [
      "animal/IMG_2825.jpg\n",
      "Average brightness: 13.952502117101986\n",
      "night\n",
      "animal/IMG_2662.jpg\n",
      "Average brightness: 37.059165345665015\n",
      "day\n",
      "animal/IMG_2101.jpg\n",
      "Average brightness: 81.0328264262881\n",
      "day\n",
      "animal/IMG_2906.jpg\n",
      "Average brightness: 9.393510426289858\n",
      "night\n",
      "animal/IMG_3677.jpg\n",
      "Average brightness: 3.1863700405573754\n",
      "night\n",
      "animal/IMG_3703.jpg\n",
      "Average brightness: 21.620765030549258\n",
      "day\n"
     ]
    }
   ],
   "source": [
    "img_dir = \"animal\" # Enter Directory of all images  \n",
    "data_path = os.path.join(img_dir,'*g') \n",
    "files = glob.glob(data_path) \n",
    "data = [] \n",
    "for f1 in files: \n",
    "#     print(f1)\n",
    "    img = cv2.imread(f1) \n",
    "    img = adjust_gamma(img, gamma=0.25)\n",
    "    gray = cv2.cvtColor(img, cv2.COLOR_BGR2GRAY)\n",
    "    avg_brightness = cv2.mean(gray)[0]\n",
    "    print(f1)\n",
    "    print(\"Average brightness:\", avg_brightness)\n",
    "    if avg_brightness <= 15:\n",
    "        print('night')\n",
    "    else:\n",
    "        print('day')\n",
    "\n"
   ]
  },
  {
   "cell_type": "code",
   "execution_count": null,
   "id": "350bc44f",
   "metadata": {},
   "outputs": [],
   "source": []
  },
  {
   "cell_type": "code",
   "execution_count": null,
   "id": "ec30e601",
   "metadata": {},
   "outputs": [],
   "source": []
  }
 ],
 "metadata": {
  "kernelspec": {
   "display_name": "Python 3 (ipykernel)",
   "language": "python",
   "name": "python3"
  },
  "language_info": {
   "codemirror_mode": {
    "name": "ipython",
    "version": 3
   },
   "file_extension": ".py",
   "mimetype": "text/x-python",
   "name": "python",
   "nbconvert_exporter": "python",
   "pygments_lexer": "ipython3",
   "version": "3.10.10"
  }
 },
 "nbformat": 4,
 "nbformat_minor": 5
}
